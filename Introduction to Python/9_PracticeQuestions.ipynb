{
 "cells": [
  {
   "cell_type": "markdown",
   "id": "07cfdc4e",
   "metadata": {},
   "source": [
    "Find average Marks\n",
    "Send Feedback\n",
    "Write a program to input marks of three tests of a student (all integers). Then calculate and print the average of all test marks.\n",
    "Input format :\n",
    "3 Test marks (in different lines)\n",
    "Output format :\n",
    "Average \n",
    "Sample Input 1 :\n",
    "3 \n",
    "4 \n",
    "6\n",
    "Sample Output 1 :\n",
    "4.333333333333333\n",
    "Sample Input 2 :\n",
    "5 \n",
    "10 \n",
    "5\n",
    "Sample Output 2 :\n",
    "6.666666666666667"
   ]
  },
  {
   "cell_type": "code",
   "execution_count": 1,
   "id": "3f0ef870",
   "metadata": {},
   "outputs": [
    {
     "name": "stdout",
     "output_type": "stream",
     "text": [
      "1\n",
      "4\n",
      "56\n",
      "20.333333333333332\n"
     ]
    }
   ],
   "source": [
    "a = int(input())\n",
    "b = int(input())\n",
    "c = int(input())\n",
    "\n",
    "d = (a + b + c)/3\n",
    "print(d)"
   ]
  },
  {
   "cell_type": "markdown",
   "id": "900933b2",
   "metadata": {},
   "source": [
    "Find X raised to power N\n",
    "Send Feedback\n",
    "You are given two numbers ’x’(it’s a float), and ’n’(it’s a integer).\n",
    "\n",
    "\n",
    "Your task is to calculate ‘x’ raised to power ‘n’, and return it.\n",
    "\n",
    "\n",
    "The expected time complexity is ’O(logn)’, and the expected space complexity is ’O(1)’, where ‘n’ is the power to which the number should be raised.\n",
    "\n",
    "\n",
    "Note:\n",
    "In the output, you will see the number returned by you upto 6 decimal places.\n",
    "\n",
    "Example:\n",
    "Input: ‘x’ = 10, ‘n’ = 4\n",
    "\n",
    "Output: 10000.000000\n",
    "\n",
    "Explanation: On raising ‘x’ to the power of ‘n’, the result is 10000.\n",
    " <br> \n",
    "Input Format\n",
    "The first line contains two numbers, ‘x’, and ‘n’, denoting the number to be raised and the power to which it should be raised.\n",
    "\n",
    "Output format:\n",
    "Return the number as described above.\n",
    "\n",
    "Note:-\n",
    "You don't need to print anything. Just implement the given function.\n",
    "Sample Input 1:\n",
    "10 4\n",
    "\n",
    "Sample Output 1 :\n",
    "10000.000000\n",
    "\n",
    "Explanation Of Sample Input 1:\n",
    "Input: ‘x’ = 10, ‘n’ = 4\n",
    "\n",
    "Output: 10000.000000\n",
    "\n",
    "Explanation: On raising ‘x’ to the power of ‘n’, the result is 10000.\n",
    "<br> \n",
    "Sample Input 2:\n",
    "3.7 3\n",
    "\n",
    "Sample Output 2:\n",
    "50.653000\n",
    "\n",
    "Explanation Of Sample Input 2:\n",
    "Input: ‘x’ = 3.7, ‘n’ = 3\n",
    "\n",
    "Output: 50.653000\n",
    "\n",
    "Explanation: On raising ‘x’ to the power of ‘n’, the result is 50.653.\n",
    "\n",
    "Constraints:\n",
    "-9 <= n <= 9\n",
    "1 <= x <= 50\n",
    "\n",
    "Time Limit: 1-sec"
   ]
  },
  {
   "cell_type": "code",
   "execution_count": 2,
   "id": "b1366a0b",
   "metadata": {},
   "outputs": [
    {
     "name": "stdout",
     "output_type": "stream",
     "text": [
      "2\n",
      "3\n",
      "8\n"
     ]
    }
   ],
   "source": [
    "X = int(input())\n",
    "N = int(input())\n",
    "\n",
    "c = X**N\n",
    "print(c)"
   ]
  },
  {
   "cell_type": "markdown",
   "id": "3132a773",
   "metadata": {},
   "source": [
    "Arithmetic Progression\n",
    "Send Feedback\n",
    "You are given first three entries of an arithmetic progression. You have to calculate the common difference and print it.\n",
    "Input format:\n",
    "The first line of input contains an integer a (1 <= a <= 100)\n",
    "The second line of input contains an integer b (1 <= b <= 100) \n",
    "The third line of input contains an integer c (1 <= c <= 100) \n",
    "Constraints:\n",
    "Time Limit: 1 second\n",
    "Output format:\n",
    "The first and only line of output contains the result.  \n",
    "Sample Input:\n",
    "1\n",
    "3\n",
    "5\n",
    "Sample Output:\n",
    "2"
   ]
  },
  {
   "cell_type": "code",
   "execution_count": 3,
   "id": "f2ecc537",
   "metadata": {},
   "outputs": [
    {
     "name": "stdout",
     "output_type": "stream",
     "text": [
      "2\n",
      "3\n",
      "4\n",
      "1\n"
     ]
    }
   ],
   "source": [
    "a = int(input())\n",
    "b = int(input())\n",
    "c = int(input())\n",
    "\n",
    "d = b-a\n",
    "print(d)"
   ]
  },
  {
   "cell_type": "markdown",
   "id": "84394742",
   "metadata": {},
   "source": [
    "###### "
   ]
  }
 ],
 "metadata": {
  "kernelspec": {
   "display_name": "Python 3 (ipykernel)",
   "language": "python",
   "name": "python3"
  },
  "language_info": {
   "codemirror_mode": {
    "name": "ipython",
    "version": 3
   },
   "file_extension": ".py",
   "mimetype": "text/x-python",
   "name": "python",
   "nbconvert_exporter": "python",
   "pygments_lexer": "ipython3",
   "version": "3.11.4"
  }
 },
 "nbformat": 4,
 "nbformat_minor": 5
}
