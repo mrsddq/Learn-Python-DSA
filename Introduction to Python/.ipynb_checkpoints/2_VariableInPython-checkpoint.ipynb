{
 "cells": [
  {
   "cell_type": "markdown",
   "id": "0fbd4ebb",
   "metadata": {},
   "source": [
    "Variable in Python\n",
    "\n",
    "uppercase\n",
    "lowercase\n",
    "underscore\n",
    "\n",
    "cannot start a variable with digits/numbers"
   ]
  },
  {
   "cell_type": "markdown",
   "id": "af07bccf",
   "metadata": {},
   "source": [
    "Variables"
   ]
  },
  {
   "cell_type": "code",
   "execution_count": 2,
   "id": "f8788038",
   "metadata": {},
   "outputs": [
    {
     "name": "stdout",
     "output_type": "stream",
     "text": [
      "sum\n",
      "10\n"
     ]
    }
   ],
   "source": [
    "a = 10\n",
    "b = 20\n",
    "sum = a + b\n",
    "abc = 10\n",
    "print(\"sum\")\n",
    "print(abc)"
   ]
  },
  {
   "cell_type": "markdown",
   "id": "cddb82ad",
   "metadata": {},
   "source": [
    "Variable Naming"
   ]
  },
  {
   "cell_type": "code",
   "execution_count": null,
   "id": "74e2dbd8",
   "metadata": {},
   "outputs": [],
   "source": [
    "ac_cd = 10\n",
    "_ss = 2"
   ]
  },
  {
   "cell_type": "markdown",
   "id": "aafea654",
   "metadata": {},
   "source": [
    "Commenting"
   ]
  },
  {
   "cell_type": "code",
   "execution_count": null,
   "id": "564adab8",
   "metadata": {},
   "outputs": [],
   "source": [
    "#this is a comment"
   ]
  }
 ],
 "metadata": {
  "kernelspec": {
   "display_name": "Python 3 (ipykernel)",
   "language": "python",
   "name": "python3"
  },
  "language_info": {
   "codemirror_mode": {
    "name": "ipython",
    "version": 3
   },
   "file_extension": ".py",
   "mimetype": "text/x-python",
   "name": "python",
   "nbconvert_exporter": "python",
   "pygments_lexer": "ipython3",
   "version": "3.11.4"
  }
 },
 "nbformat": 4,
 "nbformat_minor": 5
}
