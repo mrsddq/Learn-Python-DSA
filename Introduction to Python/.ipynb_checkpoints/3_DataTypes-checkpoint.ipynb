{
 "cells": [
  {
   "cell_type": "markdown",
   "id": "42f413e6",
   "metadata": {},
   "source": [
    "DataTypes"
   ]
  },
  {
   "cell_type": "markdown",
   "id": "19cff08f",
   "metadata": {},
   "source": [
    "assigning different type of data to a variable"
   ]
  },
  {
   "cell_type": "code",
   "execution_count": 1,
   "id": "44fbc083",
   "metadata": {},
   "outputs": [
    {
     "data": {
      "text/plain": [
       "'heads'"
      ]
     },
     "execution_count": 1,
     "metadata": {},
     "output_type": "execute_result"
    }
   ],
   "source": [
    "a = 10\n",
    "a = 20\n",
    "a = \"heads\"\n",
    "a"
   ]
  },
  {
   "cell_type": "code",
   "execution_count": null,
   "id": "31785e9c",
   "metadata": {},
   "outputs": [],
   "source": [
    "type(a)"
   ]
  }
 ],
 "metadata": {
  "kernelspec": {
   "display_name": "Python 3 (ipykernel)",
   "language": "python",
   "name": "python3"
  },
  "language_info": {
   "codemirror_mode": {
    "name": "ipython",
    "version": 3
   },
   "file_extension": ".py",
   "mimetype": "text/x-python",
   "name": "python",
   "nbconvert_exporter": "python",
   "pygments_lexer": "ipython3",
   "version": "3.11.4"
  }
 },
 "nbformat": 4,
 "nbformat_minor": 5
}
